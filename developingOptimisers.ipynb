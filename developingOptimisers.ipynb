{
  "nbformat": 4,
  "nbformat_minor": 0,
  "metadata": {
    "colab": {
      "provenance": [],
      "collapsed_sections": [
        "2FowthX5zFgo",
        "wbY0g6FvzU1K",
        "fESbjMGIzaz1"
      ]
    },
    "kernelspec": {
      "name": "python3",
      "display_name": "Python 3"
    },
    "language_info": {
      "name": "python"
    }
  },
  "cells": [
    {
      "cell_type": "markdown",
      "source": [
        "# Developing Optimisers in Python\n",
        "Jay Parfitt 2013962"
      ],
      "metadata": {
        "id": "_NSaLd0ky0S1"
      }
    },
    {
      "cell_type": "markdown",
      "source": [
        "## Imports"
      ],
      "metadata": {
        "id": "2FowthX5zFgo"
      }
    },
    {
      "cell_type": "code",
      "execution_count": 2,
      "metadata": {
        "id": "TQZMdow_yzrn"
      },
      "outputs": [],
      "source": [
        "import numpy as np\n",
        "import matplotlib.pyplot as plt"
      ]
    },
    {
      "cell_type": "markdown",
      "source": [
        "## Task 1\n",
        "Implement the functions"
      ],
      "metadata": {
        "id": "wbY0g6FvzU1K"
      }
    },
    {
      "cell_type": "markdown",
      "source": [
        "Global counter for the function evaluations"
      ],
      "metadata": {
        "id": "oVJjUzdb0JK-"
      }
    },
    {
      "cell_type": "code",
      "source": [
        "funcCounters = {'f':0, 'g1':0, 'g2':0, 'g3':0, 'g4':0}"
      ],
      "metadata": {
        "id": "2QjNgx15zyr6"
      },
      "execution_count": 3,
      "outputs": []
    },
    {
      "cell_type": "markdown",
      "source": [
        "Defining the functions"
      ],
      "metadata": {
        "id": "uj0IGjv60RC7"
      }
    },
    {
      "cell_type": "code",
      "source": [
        "#f(x)\n",
        "def f(x):\n",
        "  global funcCounters\n",
        "  funcCounters['f'] += 1\n",
        "  return x[0]**2 * x[1] * (2 + x[2])\n",
        "\n",
        "#g1(x)\n",
        "def g1(x):\n",
        "  global funcCounters\n",
        "  funcCounters['g1'] += 1\n",
        "  return 1 - (x[1]**2 * x[2]) / (71785 * x[0]**4)\n",
        "\n",
        "#g2(x)\n",
        "def g2(x):\n",
        "  global funcCounters\n",
        "  funcCounters['g2'] += 1\n",
        "  part1 = 4 * x[1]**2 - x[0] * x[1]\n",
        "  part2 = 12566 * (x[1] * x[0]**3 - x[0]**4)\n",
        "  part3 = 1 / (5108 * x[0]**2)\n",
        "  return part1 / part2 + part3 - 1\n",
        "\n",
        "#g3(x)\n",
        "def g3(x):\n",
        "  global funcCounters\n",
        "  funcCounters['g3'] += 1\n",
        "  return 1 - (140.45 * x[0]) / (x[1]**2 * x[2])\n",
        "\n",
        "#g4(x)\n",
        "def g4(x):\n",
        "  global funcCounters\n",
        "  funcCounters['g4'] += 1\n",
        "  return ((x[0] + x[1]) / 1.5) - 1"
      ],
      "metadata": {
        "id": "AGPHF7_Q0TkP"
      },
      "execution_count": 4,
      "outputs": []
    },
    {
      "cell_type": "code",
      "source": [
        "x = np.array([0.42, 0.9, 7])\n",
        "print(\"Objective function output: \", f(x))\n",
        "print(\"First contraint function output: \", g1(x))\n",
        "print(\"Second contraint function output: \", g2(x))\n",
        "print(\"Third contraint function output: \", g3(x))\n",
        "print(\"Fourth contraint function output: \", g4(x))"
      ],
      "metadata": {
        "colab": {
          "base_uri": "https://localhost:8080/"
        },
        "id": "hiGpEVeEZgCz",
        "outputId": "c9a1ee9d-6f35-4953-9e6e-6d7cee485284"
      },
      "execution_count": 7,
      "outputs": [
        {
          "output_type": "stream",
          "name": "stdout",
          "text": [
            "Objective function output:  1.4288399999999999\n",
            "First contraint function output:  0.9974616459784045\n",
            "Second contraint function output:  -0.9924857111736846\n",
            "Third contraint function output:  -9.403703703703702\n",
            "Fourth contraint function output:  -0.12\n"
          ]
        }
      ]
    },
    {
      "cell_type": "markdown",
      "source": [
        "## Task 2\n",
        "Implement Random Search"
      ],
      "metadata": {
        "id": "fESbjMGIzaz1"
      }
    },
    {
      "cell_type": "markdown",
      "source": [
        "### Feasability function\n",
        "Checks if a solution x satisfies all contraintes and bounds"
      ],
      "metadata": {
        "id": "1LQtS0dIau-H"
      }
    },
    {
      "cell_type": "code",
      "source": [
        "def isFeasable(x):\n",
        "  return all([\n",
        "      g1(x) <= 0,\n",
        "      g2(x) <= 0,\n",
        "      g3(x) <= 0,\n",
        "      g4(x) <= 0,\n",
        "      0.05 <= x[0] <= 2,\n",
        "      0.25 <= x[1] <= 1.3,\n",
        "      2 <= x[2] <= 15\n",
        "  ])"
      ],
      "metadata": {
        "id": "ONAuV37oaufd"
      },
      "execution_count": 8,
      "outputs": []
    },
    {
      "cell_type": "markdown",
      "source": [
        "### Random Search function\n"
      ],
      "metadata": {
        "id": "HfL-GA2za53v"
      }
    },
    {
      "cell_type": "code",
      "source": [
        "def randomSearch(maxEvals=500, randomSeed=42):\n",
        "  # Setting random seed\n",
        "  np.random.seed(randomSeed)\n",
        "  # initialising best solution\n",
        "  bestX, bestVal = None, float('inf')\n",
        "\n",
        "  # setting the bounds\n",
        "  for _ in range(maxEvals):\n",
        "    x = np.array([\n",
        "        np.random.uniform(0.05, 2),\n",
        "        np.random.uniform(0.25, 1.3),\n",
        "        np.random.uniform(2, 16)\n",
        "    ])\n",
        "\n",
        "    # rejects and regenerates if constraints are not satisfied\n",
        "    if isFeasable(x):\n",
        "      val = f(x)\n",
        "      if val < bestVal or bestVal is None:\n",
        "        bestVal = val\n",
        "        bestX = x\n",
        "\n",
        "  return bestX, bestVal"
      ],
      "metadata": {
        "id": "4s1fUYvIHiHv"
      },
      "execution_count": 22,
      "outputs": []
    },
    {
      "cell_type": "code",
      "source": [
        "bestX, bestVal = randomSearch()\n",
        "print(\"Best solution: \", bestX)\n",
        "print(\"Best value: \", bestVal)"
      ],
      "metadata": {
        "colab": {
          "base_uri": "https://localhost:8080/"
        },
        "id": "fggkNxE8bkbI",
        "outputId": "97155eca-0f6b-4b88-d0b0-29f76dd42f53"
      },
      "execution_count": 23,
      "outputs": [
        {
          "output_type": "stream",
          "name": "stdout",
          "text": [
            "Best solution:  [ 0.07144187  0.39372991 14.60026099]\n",
            "Best value:  0.03335945160892047\n"
          ]
        }
      ]
    },
    {
      "cell_type": "markdown",
      "source": [
        "## Task 3\n",
        "Implement the simulated annealing method"
      ],
      "metadata": {
        "id": "n7t_hQNdzfib"
      }
    },
    {
      "cell_type": "markdown",
      "source": [
        "### Generate Initial Solution\n",
        "\n",
        "Inital solution is also required to be feasable to allow the algorithm to start from a valid point"
      ],
      "metadata": {
        "id": "IkmJrP4NeiQQ"
      }
    },
    {
      "cell_type": "code",
      "source": [
        "def generateInitialSolution():\n",
        "  while True:\n",
        "    # generates random solution within bounds\n",
        "    x = np.array([\n",
        "        np.random.uniform(0.05, 2),\n",
        "        np.random.uniform(0.25, 1.3),\n",
        "        np.random.uniform(2, 16)\n",
        "    ])\n",
        "\n",
        "    # checks if it's feasable\n",
        "    if isFeasable(x):\n",
        "      return x"
      ],
      "metadata": {
        "id": "_TGaFhIleh_g"
      },
      "execution_count": 26,
      "outputs": []
    },
    {
      "cell_type": "markdown",
      "source": [
        "### Simulated Annealing function"
      ],
      "metadata": {
        "id": "ZHr1njCTe9ZP"
      }
    },
    {
      "cell_type": "code",
      "source": [
        "def simulatedAnnealing(maxEvals=500, initalTemp=100, coolingRate=0.95, randomSeed=42):\n",
        "  np.random.seed(randomSeed)\n",
        "  x = generateInitialSolution()\n",
        "\n",
        "  bestX, bestVal = x, f(x)\n",
        "  currentX, currentVal = x, f(x)\n",
        "  temp = initalTemp\n",
        "\n",
        "  for _ in range(maxEvals):\n",
        "    neighbour = currentX + np.random.uniform(-0.1, 0.1, size=3)\n",
        "    neighbour[0] = np.clip(neighbour[0], 0.05, 2)\n",
        "    neighbour[1] = np.clip(neighbour[1], 0.25, 1.3)\n",
        "    neighbour[2] = np.clip(neighbour[2], 2, 15)\n",
        "\n",
        "    if isFeasable(neighbour):\n",
        "      neighbourVal = f(neighbour)\n",
        "      delta = neighbourVal - currentVal\n",
        "\n",
        "      # accepts neighbour based on SA criteria\n",
        "      if delta < 0 or np.exp(-delta / temp) > np.random.rand():\n",
        "        currentX, currentVal = neighbour, neighbourVal\n",
        "        if neighbourVal < bestVal or bestVal is None:\n",
        "          bestX, bestVal = neighbour, neighbourVal\n",
        "\n",
        "    temp *= coolingRate\n",
        "\n",
        "  return bestX, bestVal\n"
      ],
      "metadata": {
        "id": "6T7vaiyId52b"
      },
      "execution_count": 29,
      "outputs": []
    },
    {
      "cell_type": "code",
      "source": [
        "initialSolution = generateInitialSolution()\n",
        "print(\"Initial solution: \", initialSolution)\n",
        "print(\"Initial value: \", f(initialSolution))\n",
        "\n",
        "bestX, bestVal = simulatedAnnealing()\n",
        "print(\"Best solution: \", bestX)\n",
        "print(\"Best value: \", bestVal)"
      ],
      "metadata": {
        "colab": {
          "base_uri": "https://localhost:8080/"
        },
        "id": "HNy7z6wshQdd",
        "outputId": "d9d2066a-3bf8-4530-9102-7acea3d083a7"
      },
      "execution_count": 30,
      "outputs": [
        {
          "output_type": "stream",
          "name": "stdout",
          "text": [
            "Initial solution:  [0.07282789 0.69313597 6.13056991]\n",
            "Initial value:  0.029890617933438286\n",
            "Best solution:  [0.07380479 0.87339854 4.25139232]\n",
            "Best value:  0.029741184767636847\n"
          ]
        }
      ]
    },
    {
      "cell_type": "markdown",
      "source": [
        "## Task 4\n",
        "Performance Evaluation"
      ],
      "metadata": {
        "id": "vJp9e-UFznmw"
      }
    }
  ]
}