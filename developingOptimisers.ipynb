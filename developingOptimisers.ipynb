{
  "nbformat": 4,
  "nbformat_minor": 0,
  "metadata": {
    "colab": {
      "provenance": [],
      "collapsed_sections": [
        "2FowthX5zFgo"
      ]
    },
    "kernelspec": {
      "name": "python3",
      "display_name": "Python 3"
    },
    "language_info": {
      "name": "python"
    }
  },
  "cells": [
    {
      "cell_type": "markdown",
      "source": [
        "# Developing Optimisers in Python\n",
        "Jay Parfitt 2013962"
      ],
      "metadata": {
        "id": "_NSaLd0ky0S1"
      }
    },
    {
      "cell_type": "markdown",
      "source": [
        "## Imports"
      ],
      "metadata": {
        "id": "2FowthX5zFgo"
      }
    },
    {
      "cell_type": "code",
      "execution_count": 5,
      "metadata": {
        "id": "TQZMdow_yzrn"
      },
      "outputs": [],
      "source": [
        "import numpy as np\n",
        "import matplotlib.pyplot as plt"
      ]
    },
    {
      "cell_type": "markdown",
      "source": [
        "## Task 1\n",
        "Implement the functions"
      ],
      "metadata": {
        "id": "wbY0g6FvzU1K"
      }
    },
    {
      "cell_type": "markdown",
      "source": [
        "Global counter for the function evaluations"
      ],
      "metadata": {
        "id": "oVJjUzdb0JK-"
      }
    },
    {
      "cell_type": "code",
      "source": [
        "funcCounters = {'f':0, 'g1':0, 'g2':0, 'g3':0, 'g4':0}"
      ],
      "metadata": {
        "id": "2QjNgx15zyr6"
      },
      "execution_count": 2,
      "outputs": []
    },
    {
      "cell_type": "markdown",
      "source": [
        "Defining the functions"
      ],
      "metadata": {
        "id": "uj0IGjv60RC7"
      }
    },
    {
      "cell_type": "code",
      "source": [
        "#f(x)\n",
        "def f(x):\n",
        "  global funcCounters\n",
        "  funcCounters['f'] += 1\n",
        "  return x[0]**2 * x[1] * (2 + x[2])\n",
        "\n",
        "#g1(x)\n",
        "def g1(x):\n",
        "  global funcCounters\n",
        "  funcCounters['g1'] += 1\n",
        "  return 1 - (x[1]**2 * x[2]) / (71785 * x[0]**4)\n",
        "\n",
        "#g2(x)\n",
        "def g2(x):\n",
        "  global funcCounters\n",
        "  funcCounters['g2'] += 1\n",
        "  part1 = 4 * x[1]**2 - x[0] * x[1]\n",
        "  part2 = 12566 * (x[1] * x[0]**3 - x[0]**4)\n",
        "  part3 = 1 / (5108 * x[0]**2)\n",
        "  return part1 / part2 + part3 - 1\n",
        "\n",
        "#g3(x)\n",
        "def g3(x):\n",
        "  global funcCounters\n",
        "  funcCounters['g3'] += 1\n",
        "  return 1 - (140.45 * x[0]) / (x[1]**2 * x[2])\n",
        "\n",
        "#g4(x)\n",
        "def g4(x):\n",
        "  global funcCounters\n",
        "  funcCounters['g4'] += 1\n",
        "  return ((x[0] + x[1]) / 1.5) - 1"
      ],
      "metadata": {
        "id": "AGPHF7_Q0TkP"
      },
      "execution_count": 4,
      "outputs": []
    },
    {
      "cell_type": "markdown",
      "source": [
        "## Task 2\n",
        "Implement Random Search"
      ],
      "metadata": {
        "id": "fESbjMGIzaz1"
      }
    },
    {
      "cell_type": "markdown",
      "source": [
        "## Task 3\n",
        "Implement the simulated annealing method"
      ],
      "metadata": {
        "id": "n7t_hQNdzfib"
      }
    },
    {
      "cell_type": "markdown",
      "source": [
        "## Task 4\n",
        "Performance Evaluation"
      ],
      "metadata": {
        "id": "vJp9e-UFznmw"
      }
    }
  ]
}