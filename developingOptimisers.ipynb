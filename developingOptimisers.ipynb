{
  "nbformat": 4,
  "nbformat_minor": 0,
  "metadata": {
    "colab": {
      "provenance": [],
      "collapsed_sections": [
        "2FowthX5zFgo",
        "wbY0g6FvzU1K",
        "n7t_hQNdzfib",
        "IkmJrP4NeiQQ"
      ]
    },
    "kernelspec": {
      "name": "python3",
      "display_name": "Python 3"
    },
    "language_info": {
      "name": "python"
    }
  },
  "cells": [
    {
      "cell_type": "markdown",
      "source": [
        "# Developing Optimisers in Python\n",
        "Jay Parfitt 2013962"
      ],
      "metadata": {
        "id": "_NSaLd0ky0S1"
      }
    },
    {
      "cell_type": "markdown",
      "source": [
        "## Imports"
      ],
      "metadata": {
        "id": "2FowthX5zFgo"
      }
    },
    {
      "cell_type": "code",
      "execution_count": null,
      "metadata": {
        "id": "TQZMdow_yzrn"
      },
      "outputs": [],
      "source": [
        "import numpy as np\n",
        "import matplotlib.pyplot as plt"
      ]
    },
    {
      "cell_type": "markdown",
      "source": [
        "## Task 1\n",
        "Implement the functions"
      ],
      "metadata": {
        "id": "wbY0g6FvzU1K"
      }
    },
    {
      "cell_type": "markdown",
      "source": [
        "Global counter for the function evaluations"
      ],
      "metadata": {
        "id": "oVJjUzdb0JK-"
      }
    },
    {
      "cell_type": "code",
      "source": [
        "funcCounters = {'f':0, 'g1':0, 'g2':0, 'g3':0, 'g4':0}"
      ],
      "metadata": {
        "id": "2QjNgx15zyr6"
      },
      "execution_count": null,
      "outputs": []
    },
    {
      "cell_type": "markdown",
      "source": [
        "Defining the functions"
      ],
      "metadata": {
        "id": "uj0IGjv60RC7"
      }
    },
    {
      "cell_type": "code",
      "source": [
        "#f(x)\n",
        "def f(x):\n",
        "  global funcCounters\n",
        "  funcCounters['f'] += 1\n",
        "  return x[0]**2 * x[1] * (2 + x[2])\n",
        "\n",
        "#g1(x)\n",
        "def g1(x):\n",
        "  global funcCounters\n",
        "  funcCounters['g1'] += 1\n",
        "  return 1 - (x[1]**2 * x[2]) / (71785 * x[0]**4)\n",
        "\n",
        "#g2(x)\n",
        "def g2(x):\n",
        "  global funcCounters\n",
        "  funcCounters['g2'] += 1\n",
        "  part1 = 4 * x[1]**2 - x[0] * x[1]\n",
        "  part2 = 12566 * (x[1] * x[0]**3 - x[0]**4)\n",
        "  part3 = 1 / (5108 * x[0]**2)\n",
        "  return part1 / part2 + part3 - 1\n",
        "\n",
        "#g3(x)\n",
        "def g3(x):\n",
        "  global funcCounters\n",
        "  funcCounters['g3'] += 1\n",
        "  return 1 - (140.45 * x[0]) / (x[1]**2 * x[2])\n",
        "\n",
        "#g4(x)\n",
        "def g4(x):\n",
        "  global funcCounters\n",
        "  funcCounters['g4'] += 1\n",
        "  return ((x[0] + x[1]) / 1.5) - 1"
      ],
      "metadata": {
        "id": "AGPHF7_Q0TkP"
      },
      "execution_count": null,
      "outputs": []
    },
    {
      "cell_type": "code",
      "source": [
        "x = np.array([0.42, 0.9, 7])\n",
        "print(\"Objective function output: \", f(x))\n",
        "print(\"First contraint function output: \", g1(x))\n",
        "print(\"Second contraint function output: \", g2(x))\n",
        "print(\"Third contraint function output: \", g3(x))\n",
        "print(\"Fourth contraint function output: \", g4(x))"
      ],
      "metadata": {
        "colab": {
          "base_uri": "https://localhost:8080/"
        },
        "id": "hiGpEVeEZgCz",
        "outputId": "fc15734a-7698-47a4-e71a-66709c6a9f66"
      },
      "execution_count": null,
      "outputs": [
        {
          "output_type": "stream",
          "name": "stdout",
          "text": [
            "Objective function output:  1.4288399999999999\n",
            "First contraint function output:  0.9974616459784045\n",
            "Second contraint function output:  -0.9924857111736846\n",
            "Third contraint function output:  -9.403703703703702\n",
            "Fourth contraint function output:  -0.12\n"
          ]
        }
      ]
    },
    {
      "cell_type": "markdown",
      "source": [
        "## Task 2\n",
        "Implement Random Search"
      ],
      "metadata": {
        "id": "fESbjMGIzaz1"
      }
    },
    {
      "cell_type": "markdown",
      "source": [
        "### Feasability function\n",
        "Checks if a solution x satisfies all contraintes and bounds"
      ],
      "metadata": {
        "id": "1LQtS0dIau-H"
      }
    },
    {
      "cell_type": "code",
      "source": [
        "def isFeasable(x):\n",
        "  return all([\n",
        "      g1(x) <= 0,\n",
        "      g2(x) <= 0,\n",
        "      g3(x) <= 0,\n",
        "      g4(x) <= 0,\n",
        "      0.05 <= x[0] <= 2,\n",
        "      0.25 <= x[1] <= 1.3,\n",
        "      2 <= x[2] <= 15\n",
        "  ])"
      ],
      "metadata": {
        "id": "ONAuV37oaufd"
      },
      "execution_count": null,
      "outputs": []
    },
    {
      "cell_type": "markdown",
      "source": [
        "### Random Search function\n"
      ],
      "metadata": {
        "id": "HfL-GA2za53v"
      }
    },
    {
      "cell_type": "code",
      "source": [
        "def randomSearch(maxEvals=500, randomSeed=42):\n",
        "  # Setting random seed\n",
        "  np.random.seed(randomSeed)\n",
        "  # initialising best solution\n",
        "  bestX, bestVal = None, float('inf')\n",
        "  results = []\n",
        "\n",
        "  # setting the bounds\n",
        "  for _ in range(maxEvals):\n",
        "    x = np.array([\n",
        "        np.random.uniform(0.05, 2),\n",
        "        np.random.uniform(0.25, 1.3),\n",
        "        np.random.uniform(2, 15)\n",
        "    ])\n",
        "\n",
        "    # rejects and regenerates if constraints are not satisfied\n",
        "    if isFeasable(x):\n",
        "      val = f(x)\n",
        "      results.append(val)\n",
        "      if val < bestVal:\n",
        "        bestVal = val\n",
        "        bestX = x\n",
        "\n",
        "  return bestX, bestVal"
      ],
      "metadata": {
        "id": "4s1fUYvIHiHv"
      },
      "execution_count": null,
      "outputs": []
    },
    {
      "cell_type": "code",
      "source": [
        "bestX, bestVal = randomSearch()\n",
        "print(\"Best solution: \", bestX)\n",
        "print(\"Best value: \", bestVal)"
      ],
      "metadata": {
        "colab": {
          "base_uri": "https://localhost:8080/"
        },
        "id": "fggkNxE8bkbI",
        "outputId": "3b919d70-668f-4021-fee9-2778178fd1a7"
      },
      "execution_count": null,
      "outputs": [
        {
          "output_type": "stream",
          "name": "stdout",
          "text": [
            "Best solution:  [ 0.07144187  0.39372991 13.70024234]\n",
            "Best value:  0.0315507976151424\n"
          ]
        }
      ]
    },
    {
      "cell_type": "markdown",
      "source": [
        "## Task 3\n",
        "Implement the simulated annealing method"
      ],
      "metadata": {
        "id": "n7t_hQNdzfib"
      }
    },
    {
      "cell_type": "markdown",
      "source": [
        "### Generate Initial Solution\n",
        "\n",
        "Inital solution is also required to be feasable to allow the algorithm to start from a valid point"
      ],
      "metadata": {
        "id": "IkmJrP4NeiQQ"
      }
    },
    {
      "cell_type": "code",
      "source": [
        "def generateInitialSolution():\n",
        "  while True:\n",
        "    # generates random solution within bounds\n",
        "    x = np.array([\n",
        "        np.random.uniform(0.05, 2),\n",
        "        np.random.uniform(0.25, 1.3),\n",
        "        np.random.uniform(2, 16)\n",
        "    ])\n",
        "\n",
        "    # checks if it's feasable\n",
        "    if isFeasable(x):\n",
        "      return x"
      ],
      "metadata": {
        "id": "_TGaFhIleh_g"
      },
      "execution_count": null,
      "outputs": []
    },
    {
      "cell_type": "markdown",
      "source": [
        "### Simulated Annealing function"
      ],
      "metadata": {
        "id": "ZHr1njCTe9ZP"
      }
    },
    {
      "cell_type": "code",
      "source": [
        "def simulatedAnnealing(maxEvals=500, initalTemp=100, coolingRate=0.95, randomSeed=42):\n",
        "  np.random.seed(randomSeed)\n",
        "  x = generateInitialSolution()\n",
        "\n",
        "  bestX, bestVal = x, f(x)\n",
        "  currentX, currentVal = x, f(x)\n",
        "  temp = initalTemp\n",
        "\n",
        "  for _ in range(maxEvals):\n",
        "    neighbour = currentX + np.random.uniform(-0.1, 0.1, size=3)\n",
        "    neighbour[0] = np.clip(neighbour[0], 0.05, 2)\n",
        "    neighbour[1] = np.clip(neighbour[1], 0.25, 1.3)\n",
        "    neighbour[2] = round(np.clip(neighbour[2], 2, 15))\n",
        "\n",
        "    if isFeasable(neighbour):\n",
        "      neighbourVal = f(neighbour)\n",
        "      delta = neighbourVal - currentVal\n",
        "\n",
        "      # accepts neighbour based on SA criteria\n",
        "      if delta < 0 or np.exp(-delta / temp) > np.random.rand():\n",
        "        currentX, currentVal = neighbour, neighbourVal\n",
        "        if neighbourVal < bestVal:\n",
        "          bestX, bestVal = neighbour, neighbourVal\n",
        "\n",
        "    temp *= coolingRate\n",
        "\n",
        "  return bestX, bestVal\n"
      ],
      "metadata": {
        "id": "6T7vaiyId52b"
      },
      "execution_count": null,
      "outputs": []
    },
    {
      "cell_type": "code",
      "source": [
        "initialSolution = generateInitialSolution()\n",
        "print(\"Initial solution: \", initialSolution)\n",
        "print(\"Initial value: \", f(initialSolution))\n",
        "\n",
        "bestX, bestVal = simulatedAnnealing()\n",
        "print(\"Best solution: \", bestX)\n",
        "print(\"Best value: \", bestVal)"
      ],
      "metadata": {
        "colab": {
          "base_uri": "https://localhost:8080/"
        },
        "id": "HNy7z6wshQdd",
        "outputId": "a5b6177a-50fa-4f87-a2a0-f082ecb9392e"
      },
      "execution_count": null,
      "outputs": [
        {
          "output_type": "stream",
          "name": "stdout",
          "text": [
            "Initial solution:  [0.07151097 0.6869617  8.73881812]\n",
            "Initial value:  0.03772543841187907\n",
            "Best solution:  [0.06300766 0.6387352  5.        ]\n",
            "Best value:  0.01775029608844368\n"
          ]
        }
      ]
    },
    {
      "cell_type": "markdown",
      "source": [
        "## Task 4\n",
        "Performance Evaluation"
      ],
      "metadata": {
        "id": "vJp9e-UFznmw"
      }
    },
    {
      "cell_type": "markdown",
      "source": [
        "### Evaluation\n",
        "\n",
        "Evaluate RS snf SA over 21 runs"
      ],
      "metadata": {
        "id": "E1GRNSwpkTC3"
      }
    },
    {
      "cell_type": "code",
      "source": [
        "def evalutaion(repitions=21, maxEvals=500):\n",
        "  rsResults =[]\n",
        "  saResults = []\n",
        "  for _ in range(repitions):\n",
        "    _, bestVal = randomSearch(maxEvals=maxEvals, randomSeed=np.random.randint(1000))\n",
        "    rsResults.append(bestVal)\n",
        "    _, bestVal = simulatedAnnealing(maxEvals=maxEvals, initalTemp=100,\n",
        "                                    coolingRate=0.95, randomSeed=np.random.randint(1000))\n",
        "    saResults.append(bestVal)\n",
        "\n",
        "  return rsResults, saResults"
      ],
      "metadata": {
        "id": "7KpGYVhRj0kq"
      },
      "execution_count": null,
      "outputs": []
    },
    {
      "cell_type": "markdown",
      "source": [
        "### Visualization\n",
        "\n",
        "Visualize the performance of RS and SA"
      ],
      "metadata": {
        "id": "OXZApbjzkd-5"
      }
    },
    {
      "cell_type": "code",
      "source": [
        "def visualization(rsResults, saResults):\n",
        "  plt.boxplot([rsResults, saResults], labels=['Random Search', 'Simulated Annealing'])\n",
        "  plt.title('Performance Comparison')\n",
        "  plt.ylabel('Objective Function Value')\n",
        "  plt.show()\n"
      ],
      "metadata": {
        "id": "chbZWE_IkoE-"
      },
      "execution_count": null,
      "outputs": []
    },
    {
      "cell_type": "markdown",
      "source": [
        "### Comparison\n",
        "\n",
        "Statistical comparison of RS and SA results"
      ],
      "metadata": {
        "id": "ZP_8seySk4T4"
      }
    },
    {
      "cell_type": "code",
      "source": [
        "from scipy.stats import ttest_ind\n",
        "\n",
        "def comparison(rsResults, saResults):\n",
        "  tStat, pValue = ttest_ind(rsResults, saResults)\n",
        "  print(f\"T-Test Results: t= {tStat:.3f}, p= {pValue:.3f}\")"
      ],
      "metadata": {
        "id": "_GPFG-lsk-ih"
      },
      "execution_count": null,
      "outputs": []
    },
    {
      "cell_type": "markdown",
      "source": [
        "### Conclusion\n"
      ],
      "metadata": {
        "id": "w45wHF4Klt3i"
      }
    },
    {
      "cell_type": "code",
      "source": [
        "rsResults, saResults = evalutaion(repitions=21, maxEvals=500)\n",
        "visualization(rsResults, saResults)\n",
        "comparison(rsResults, saResults)"
      ],
      "metadata": {
        "colab": {
          "base_uri": "https://localhost:8080/",
          "height": 470
        },
        "id": "CfvJMc1glvoX",
        "outputId": "cc2a361b-bef5-4542-fca2-14c6c2c3a25a"
      },
      "execution_count": null,
      "outputs": [
        {
          "output_type": "display_data",
          "data": {
            "text/plain": [
              "<Figure size 640x480 with 1 Axes>"
            ],
            "image/png": "[encoded data removed]"
          },
          "metadata": {}
        },
        {
          "output_type": "stream",
          "name": "stdout",
          "text": [
            "T-Test Results: t= 3.042, p= 0.004\n"
          ]
        }
      ]
    },
    {
      "cell_type": "markdown",
      "source": [
        "**Random Search**\n",
        "- Wider range and higher variability with the results\n",
        "- Outliners present above 0.08, showing RS occasionally produces poor solutions\n",
        "- Median is higher compared to SA\n",
        "\n",
        "**Simulated Annealing**\n",
        "- Tighlty clustered indicating better consistency\n",
        "- Lower median, with a smaller spread than RS\n",
        "- SA consistantly produced better solutions\n",
        "\n",
        "**T-Test Results**\n",
        "t-value = 3.042:\n",
        "- A large difference between the means of the two distributions\n",
        "- A larger t-value signifies a greater difference in performance\n",
        "p-value= 0.004:\n",
        "- Shows that SA performs better than RS\n",
        "\n",
        "**Conclusion**\n",
        "\n",
        "RS has higher variability and occasionaly produces suboptimal solutions. SA is more robust, delivering consistently better solutions within the feasable space"
      ],
      "metadata": {
        "id": "rv-2vAC-sz8H"
      }
    }
  ]
}