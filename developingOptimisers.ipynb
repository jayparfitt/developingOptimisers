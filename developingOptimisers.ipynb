{
  "nbformat": 4,
  "nbformat_minor": 0,
  "metadata": {
    "colab": {
      "provenance": [],
      "collapsed_sections": [
        "2FowthX5zFgo",
        "fESbjMGIzaz1"
      ]
    },
    "kernelspec": {
      "name": "python3",
      "display_name": "Python 3"
    },
    "language_info": {
      "name": "python"
    }
  },
  "cells": [
    {
      "cell_type": "markdown",
      "source": [
        "# Developing Optimisers in Python\n",
        "Jay Parfitt 2013962"
      ],
      "metadata": {
        "id": "_NSaLd0ky0S1"
      }
    },
    {
      "cell_type": "markdown",
      "source": [
        "## Imports"
      ],
      "metadata": {
        "id": "2FowthX5zFgo"
      }
    },
    {
      "cell_type": "code",
      "execution_count": 2,
      "metadata": {
        "id": "TQZMdow_yzrn"
      },
      "outputs": [],
      "source": [
        "import numpy as np\n",
        "import matplotlib.pyplot as plt"
      ]
    },
    {
      "cell_type": "markdown",
      "source": [
        "## Task 1\n",
        "Implement the functions"
      ],
      "metadata": {
        "id": "wbY0g6FvzU1K"
      }
    },
    {
      "cell_type": "markdown",
      "source": [
        "Global counter for the function evaluations"
      ],
      "metadata": {
        "id": "oVJjUzdb0JK-"
      }
    },
    {
      "cell_type": "code",
      "source": [
        "funcCounters = {'f':0, 'g1':0, 'g2':0, 'g3':0, 'g4':0}"
      ],
      "metadata": {
        "id": "2QjNgx15zyr6"
      },
      "execution_count": 3,
      "outputs": []
    },
    {
      "cell_type": "markdown",
      "source": [
        "Defining the functions"
      ],
      "metadata": {
        "id": "uj0IGjv60RC7"
      }
    },
    {
      "cell_type": "code",
      "source": [
        "#f(x)\n",
        "def f(x):\n",
        "  global funcCounters\n",
        "  funcCounters['f'] += 1\n",
        "  return x[0]**2 * x[1] * (2 + x[2])\n",
        "\n",
        "#g1(x)\n",
        "def g1(x):\n",
        "  global funcCounters\n",
        "  funcCounters['g1'] += 1\n",
        "  return 1 - (x[1]**2 * x[2]) / (71785 * x[0]**4)\n",
        "\n",
        "#g2(x)\n",
        "def g2(x):\n",
        "  global funcCounters\n",
        "  funcCounters['g2'] += 1\n",
        "  part1 = 4 * x[1]**2 - x[0] * x[1]\n",
        "  part2 = 12566 * (x[1] * x[0]**3 - x[0]**4)\n",
        "  part3 = 1 / (5108 * x[0]**2)\n",
        "  return part1 / part2 + part3 - 1\n",
        "\n",
        "#g3(x)\n",
        "def g3(x):\n",
        "  global funcCounters\n",
        "  funcCounters['g3'] += 1\n",
        "  return 1 - (140.45 * x[0]) / (x[1]**2 * x[2])\n",
        "\n",
        "#g4(x)\n",
        "def g4(x):\n",
        "  global funcCounters\n",
        "  funcCounters['g4'] += 1\n",
        "  return ((x[0] + x[1]) / 1.5) - 1"
      ],
      "metadata": {
        "id": "AGPHF7_Q0TkP"
      },
      "execution_count": 4,
      "outputs": []
    },
    {
      "cell_type": "code",
      "source": [
        "x = np.array([0.42, 0.9, 7])\n",
        "print(\"Objective function output: \", f(x))\n",
        "print(\"First contraint function output: \", g1(x))\n",
        "print(\"Second contraint function output: \", g2(x))\n",
        "print(\"Third contraint function output: \", g3(x))\n",
        "print(\"Fourth contraint function output: \", g4(x))"
      ],
      "metadata": {
        "colab": {
          "base_uri": "https://localhost:8080/"
        },
        "id": "hiGpEVeEZgCz",
        "outputId": "c9a1ee9d-6f35-4953-9e6e-6d7cee485284"
      },
      "execution_count": 7,
      "outputs": [
        {
          "output_type": "stream",
          "name": "stdout",
          "text": [
            "Objective function output:  1.4288399999999999\n",
            "First contraint function output:  0.9974616459784045\n",
            "Second contraint function output:  -0.9924857111736846\n",
            "Third contraint function output:  -9.403703703703702\n",
            "Fourth contraint function output:  -0.12\n"
          ]
        }
      ]
    },
    {
      "cell_type": "markdown",
      "source": [
        "## Task 2\n",
        "Implement Random Search"
      ],
      "metadata": {
        "id": "fESbjMGIzaz1"
      }
    },
    {
      "cell_type": "markdown",
      "source": [
        "### Feasability function\n",
        "Checks if a solution x satisfies all contraintes and bounds"
      ],
      "metadata": {
        "id": "1LQtS0dIau-H"
      }
    },
    {
      "cell_type": "code",
      "source": [
        "def isFeasable(x):\n",
        "  return all([\n",
        "      g1(x) <= 0,\n",
        "      g2(x) <= 0,\n",
        "      g3(x) <= 0,\n",
        "      g4(x) <= 0,\n",
        "      0.05 <= x[0] <= 2,\n",
        "      0.25 <= x[1] <= 1.3,\n",
        "      2 <= x[2] <= 15\n",
        "  ])"
      ],
      "metadata": {
        "id": "ONAuV37oaufd"
      },
      "execution_count": 8,
      "outputs": []
    },
    {
      "cell_type": "markdown",
      "source": [
        "### Random Search function\n"
      ],
      "metadata": {
        "id": "HfL-GA2za53v"
      }
    },
    {
      "cell_type": "code",
      "source": [
        "def randomSearch(maxEvals=500, randomSeed=42):\n",
        "  # Setting random seed\n",
        "  np.random.seed(randomSeed)\n",
        "  # initialising best solution\n",
        "  bestX, bestVal = None, float('inf')\n",
        "\n",
        "  # setting the bounds\n",
        "  for _ in range(maxEvals):\n",
        "    x = np.array([\n",
        "        np.random.uniform(0.05, 2),\n",
        "        np.random.uniform(0.25, 1.3),\n",
        "        np.random.uniform(2, 16)\n",
        "    ])\n",
        "\n",
        "    # rejects and regenerates if constraints are not satisfied\n",
        "    if isFeasable(x):\n",
        "      val = f(x)\n",
        "      if val < bestVal or bestVal is None:\n",
        "        bestVal = val\n",
        "        bestX = x\n",
        "\n",
        "  return bestX, bestVal"
      ],
      "metadata": {
        "id": "4s1fUYvIHiHv"
      },
      "execution_count": 11,
      "outputs": []
    },
    {
      "cell_type": "code",
      "source": [
        "bestX, bestVal = randomSearch()\n",
        "print(\"Best solution: \", bestX)\n",
        "print(\"Best value: \", bestVal)"
      ],
      "metadata": {
        "colab": {
          "base_uri": "https://localhost:8080/"
        },
        "id": "fggkNxE8bkbI",
        "outputId": "e44fd26e-0223-482c-9c46-105c953b8c55"
      },
      "execution_count": 13,
      "outputs": [
        {
          "output_type": "stream",
          "name": "stdout",
          "text": [
            "Best solution:  [ 0.07144187  0.39372991 14.60026099]\n",
            "Best value:  0.03335945160892047\n"
          ]
        }
      ]
    },
    {
      "cell_type": "markdown",
      "source": [
        "## Task 3\n",
        "Implement the simulated annealing method"
      ],
      "metadata": {
        "id": "n7t_hQNdzfib"
      }
    },
    {
      "cell_type": "markdown",
      "source": [
        "## Task 4\n",
        "Performance Evaluation"
      ],
      "metadata": {
        "id": "vJp9e-UFznmw"
      }
    }
  ]
}